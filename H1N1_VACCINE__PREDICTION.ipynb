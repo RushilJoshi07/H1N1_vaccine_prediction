{
  "nbformat": 4,
  "nbformat_minor": 0,
  "metadata": {
    "colab": {
      "provenance": []
    },
    "kernelspec": {
      "name": "python3",
      "display_name": "Python 3"
    },
    "language_info": {
      "name": "python"
    }
  },
  "cells": [
    {
      "cell_type": "code",
      "execution_count": null,
      "metadata": {
        "id": "vLVUxftscz1n"
      },
      "outputs": [],
      "source": [
        "import numpy as np\n",
        "import pandas as pd\n",
        "import seaborn as sns\n",
        "%matplotlib inline\n",
        "from matplotlib import pyplot as plt\n",
        "from sklearn.linear_model import LogisticRegression\n",
        "from sklearn.model_selection import train_test_split\n",
        "import warnings\n",
        "warnings.filterwarnings ('ignore')"
      ]
    },
    {
      "cell_type": "code",
      "source": [
        "mydata=pd.read_csv(\"https://raw.githubusercontent.com/Premalatha-success/Datasets/main/h1n1_vaccine_prediction.csv\",index_col=\"unique_id\")"
      ],
      "metadata": {
        "id": "yzgYFjQ-fhjL"
      },
      "execution_count": null,
      "outputs": []
    },
    {
      "cell_type": "code",
      "source": [
        "mydata.head()"
      ],
      "metadata": {
        "colab": {
          "base_uri": "https://localhost:8080/",
          "height": 417
        },
        "id": "8oiW47gir6H3",
        "outputId": "df502ce4-79cd-4a7f-8846-433b7a32301e"
      },
      "execution_count": null,
      "outputs": [
        {
          "output_type": "execute_result",
          "data": {
            "text/plain": [
              "           h1n1_worry  h1n1_awareness  antiviral_medication  \\\n",
              "unique_id                                                     \n",
              "0                 1.0             0.0                   0.0   \n",
              "1                 3.0             2.0                   0.0   \n",
              "2                 1.0             1.0                   0.0   \n",
              "3                 1.0             1.0                   0.0   \n",
              "4                 2.0             1.0                   0.0   \n",
              "\n",
              "           contact_avoidance  bought_face_mask  wash_hands_frequently  \\\n",
              "unique_id                                                               \n",
              "0                        0.0               0.0                    0.0   \n",
              "1                        1.0               0.0                    1.0   \n",
              "2                        1.0               0.0                    0.0   \n",
              "3                        1.0               0.0                    1.0   \n",
              "4                        1.0               0.0                    1.0   \n",
              "\n",
              "           avoid_large_gatherings  reduced_outside_home_cont  \\\n",
              "unique_id                                                      \n",
              "0                             0.0                        1.0   \n",
              "1                             0.0                        1.0   \n",
              "2                             0.0                        0.0   \n",
              "3                             1.0                        0.0   \n",
              "4                             1.0                        0.0   \n",
              "\n",
              "           avoid_touch_face  dr_recc_h1n1_vacc  ...   race     sex  \\\n",
              "unique_id                                       ...                  \n",
              "0                       1.0                0.0  ...  White  Female   \n",
              "1                       1.0                0.0  ...  White    Male   \n",
              "2                       0.0                NaN  ...  White    Male   \n",
              "3                       0.0                0.0  ...  White  Female   \n",
              "4                       1.0                0.0  ...  White  Female   \n",
              "\n",
              "                        income_level  marital_status  housing_status  \\\n",
              "unique_id                                                              \n",
              "0                      Below Poverty     Not Married             Own   \n",
              "1                      Below Poverty     Not Married            Rent   \n",
              "2          <= $75,000, Above Poverty     Not Married             Own   \n",
              "3                      Below Poverty     Not Married            Rent   \n",
              "4          <= $75,000, Above Poverty         Married             Own   \n",
              "\n",
              "                   employment                census_msa  no_of_adults  \\\n",
              "unique_id                                                               \n",
              "0          Not in Labor Force                   Non-MSA           0.0   \n",
              "1                    Employed  MSA, Not Principle  City           0.0   \n",
              "2                    Employed  MSA, Not Principle  City           2.0   \n",
              "3          Not in Labor Force       MSA, Principle City           0.0   \n",
              "4                    Employed  MSA, Not Principle  City           1.0   \n",
              "\n",
              "           no_of_children  h1n1_vaccine  \n",
              "unique_id                                \n",
              "0                     0.0             0  \n",
              "1                     0.0             0  \n",
              "2                     0.0             0  \n",
              "3                     0.0             0  \n",
              "4                     0.0             0  \n",
              "\n",
              "[5 rows x 33 columns]"
            ],
            "text/html": [
              "\n",
              "  <div id=\"df-bd71be16-a42d-44bb-9b8e-a23c2f601b7f\">\n",
              "    <div class=\"colab-df-container\">\n",
              "      <div>\n",
              "<style scoped>\n",
              "    .dataframe tbody tr th:only-of-type {\n",
              "        vertical-align: middle;\n",
              "    }\n",
              "\n",
              "    .dataframe tbody tr th {\n",
              "        vertical-align: top;\n",
              "    }\n",
              "\n",
              "    .dataframe thead th {\n",
              "        text-align: right;\n",
              "    }\n",
              "</style>\n",
              "<table border=\"1\" class=\"dataframe\">\n",
              "  <thead>\n",
              "    <tr style=\"text-align: right;\">\n",
              "      <th></th>\n",
              "      <th>h1n1_worry</th>\n",
              "      <th>h1n1_awareness</th>\n",
              "      <th>antiviral_medication</th>\n",
              "      <th>contact_avoidance</th>\n",
              "      <th>bought_face_mask</th>\n",
              "      <th>wash_hands_frequently</th>\n",
              "      <th>avoid_large_gatherings</th>\n",
              "      <th>reduced_outside_home_cont</th>\n",
              "      <th>avoid_touch_face</th>\n",
              "      <th>dr_recc_h1n1_vacc</th>\n",
              "      <th>...</th>\n",
              "      <th>race</th>\n",
              "      <th>sex</th>\n",
              "      <th>income_level</th>\n",
              "      <th>marital_status</th>\n",
              "      <th>housing_status</th>\n",
              "      <th>employment</th>\n",
              "      <th>census_msa</th>\n",
              "      <th>no_of_adults</th>\n",
              "      <th>no_of_children</th>\n",
              "      <th>h1n1_vaccine</th>\n",
              "    </tr>\n",
              "    <tr>\n",
              "      <th>unique_id</th>\n",
              "      <th></th>\n",
              "      <th></th>\n",
              "      <th></th>\n",
              "      <th></th>\n",
              "      <th></th>\n",
              "      <th></th>\n",
              "      <th></th>\n",
              "      <th></th>\n",
              "      <th></th>\n",
              "      <th></th>\n",
              "      <th></th>\n",
              "      <th></th>\n",
              "      <th></th>\n",
              "      <th></th>\n",
              "      <th></th>\n",
              "      <th></th>\n",
              "      <th></th>\n",
              "      <th></th>\n",
              "      <th></th>\n",
              "      <th></th>\n",
              "      <th></th>\n",
              "    </tr>\n",
              "  </thead>\n",
              "  <tbody>\n",
              "    <tr>\n",
              "      <th>0</th>\n",
              "      <td>1.0</td>\n",
              "      <td>0.0</td>\n",
              "      <td>0.0</td>\n",
              "      <td>0.0</td>\n",
              "      <td>0.0</td>\n",
              "      <td>0.0</td>\n",
              "      <td>0.0</td>\n",
              "      <td>1.0</td>\n",
              "      <td>1.0</td>\n",
              "      <td>0.0</td>\n",
              "      <td>...</td>\n",
              "      <td>White</td>\n",
              "      <td>Female</td>\n",
              "      <td>Below Poverty</td>\n",
              "      <td>Not Married</td>\n",
              "      <td>Own</td>\n",
              "      <td>Not in Labor Force</td>\n",
              "      <td>Non-MSA</td>\n",
              "      <td>0.0</td>\n",
              "      <td>0.0</td>\n",
              "      <td>0</td>\n",
              "    </tr>\n",
              "    <tr>\n",
              "      <th>1</th>\n",
              "      <td>3.0</td>\n",
              "      <td>2.0</td>\n",
              "      <td>0.0</td>\n",
              "      <td>1.0</td>\n",
              "      <td>0.0</td>\n",
              "      <td>1.0</td>\n",
              "      <td>0.0</td>\n",
              "      <td>1.0</td>\n",
              "      <td>1.0</td>\n",
              "      <td>0.0</td>\n",
              "      <td>...</td>\n",
              "      <td>White</td>\n",
              "      <td>Male</td>\n",
              "      <td>Below Poverty</td>\n",
              "      <td>Not Married</td>\n",
              "      <td>Rent</td>\n",
              "      <td>Employed</td>\n",
              "      <td>MSA, Not Principle  City</td>\n",
              "      <td>0.0</td>\n",
              "      <td>0.0</td>\n",
              "      <td>0</td>\n",
              "    </tr>\n",
              "    <tr>\n",
              "      <th>2</th>\n",
              "      <td>1.0</td>\n",
              "      <td>1.0</td>\n",
              "      <td>0.0</td>\n",
              "      <td>1.0</td>\n",
              "      <td>0.0</td>\n",
              "      <td>0.0</td>\n",
              "      <td>0.0</td>\n",
              "      <td>0.0</td>\n",
              "      <td>0.0</td>\n",
              "      <td>NaN</td>\n",
              "      <td>...</td>\n",
              "      <td>White</td>\n",
              "      <td>Male</td>\n",
              "      <td>&lt;= $75,000, Above Poverty</td>\n",
              "      <td>Not Married</td>\n",
              "      <td>Own</td>\n",
              "      <td>Employed</td>\n",
              "      <td>MSA, Not Principle  City</td>\n",
              "      <td>2.0</td>\n",
              "      <td>0.0</td>\n",
              "      <td>0</td>\n",
              "    </tr>\n",
              "    <tr>\n",
              "      <th>3</th>\n",
              "      <td>1.0</td>\n",
              "      <td>1.0</td>\n",
              "      <td>0.0</td>\n",
              "      <td>1.0</td>\n",
              "      <td>0.0</td>\n",
              "      <td>1.0</td>\n",
              "      <td>1.0</td>\n",
              "      <td>0.0</td>\n",
              "      <td>0.0</td>\n",
              "      <td>0.0</td>\n",
              "      <td>...</td>\n",
              "      <td>White</td>\n",
              "      <td>Female</td>\n",
              "      <td>Below Poverty</td>\n",
              "      <td>Not Married</td>\n",
              "      <td>Rent</td>\n",
              "      <td>Not in Labor Force</td>\n",
              "      <td>MSA, Principle City</td>\n",
              "      <td>0.0</td>\n",
              "      <td>0.0</td>\n",
              "      <td>0</td>\n",
              "    </tr>\n",
              "    <tr>\n",
              "      <th>4</th>\n",
              "      <td>2.0</td>\n",
              "      <td>1.0</td>\n",
              "      <td>0.0</td>\n",
              "      <td>1.0</td>\n",
              "      <td>0.0</td>\n",
              "      <td>1.0</td>\n",
              "      <td>1.0</td>\n",
              "      <td>0.0</td>\n",
              "      <td>1.0</td>\n",
              "      <td>0.0</td>\n",
              "      <td>...</td>\n",
              "      <td>White</td>\n",
              "      <td>Female</td>\n",
              "      <td>&lt;= $75,000, Above Poverty</td>\n",
              "      <td>Married</td>\n",
              "      <td>Own</td>\n",
              "      <td>Employed</td>\n",
              "      <td>MSA, Not Principle  City</td>\n",
              "      <td>1.0</td>\n",
              "      <td>0.0</td>\n",
              "      <td>0</td>\n",
              "    </tr>\n",
              "  </tbody>\n",
              "</table>\n",
              "<p>5 rows × 33 columns</p>\n",
              "</div>\n",
              "      <button class=\"colab-df-convert\" onclick=\"convertToInteractive('df-bd71be16-a42d-44bb-9b8e-a23c2f601b7f')\"\n",
              "              title=\"Convert this dataframe to an interactive table.\"\n",
              "              style=\"display:none;\">\n",
              "        \n",
              "  <svg xmlns=\"http://www.w3.org/2000/svg\" height=\"24px\"viewBox=\"0 0 24 24\"\n",
              "       width=\"24px\">\n",
              "    <path d=\"M0 0h24v24H0V0z\" fill=\"none\"/>\n",
              "    <path d=\"M18.56 5.44l.94 2.06.94-2.06 2.06-.94-2.06-.94-.94-2.06-.94 2.06-2.06.94zm-11 1L8.5 8.5l.94-2.06 2.06-.94-2.06-.94L8.5 2.5l-.94 2.06-2.06.94zm10 10l.94 2.06.94-2.06 2.06-.94-2.06-.94-.94-2.06-.94 2.06-2.06.94z\"/><path d=\"M17.41 7.96l-1.37-1.37c-.4-.4-.92-.59-1.43-.59-.52 0-1.04.2-1.43.59L10.3 9.45l-7.72 7.72c-.78.78-.78 2.05 0 2.83L4 21.41c.39.39.9.59 1.41.59.51 0 1.02-.2 1.41-.59l7.78-7.78 2.81-2.81c.8-.78.8-2.07 0-2.86zM5.41 20L4 18.59l7.72-7.72 1.47 1.35L5.41 20z\"/>\n",
              "  </svg>\n",
              "      </button>\n",
              "      \n",
              "  <style>\n",
              "    .colab-df-container {\n",
              "      display:flex;\n",
              "      flex-wrap:wrap;\n",
              "      gap: 12px;\n",
              "    }\n",
              "\n",
              "    .colab-df-convert {\n",
              "      background-color: #E8F0FE;\n",
              "      border: none;\n",
              "      border-radius: 50%;\n",
              "      cursor: pointer;\n",
              "      display: none;\n",
              "      fill: #1967D2;\n",
              "      height: 32px;\n",
              "      padding: 0 0 0 0;\n",
              "      width: 32px;\n",
              "    }\n",
              "\n",
              "    .colab-df-convert:hover {\n",
              "      background-color: #E2EBFA;\n",
              "      box-shadow: 0px 1px 2px rgba(60, 64, 67, 0.3), 0px 1px 3px 1px rgba(60, 64, 67, 0.15);\n",
              "      fill: #174EA6;\n",
              "    }\n",
              "\n",
              "    [theme=dark] .colab-df-convert {\n",
              "      background-color: #3B4455;\n",
              "      fill: #D2E3FC;\n",
              "    }\n",
              "\n",
              "    [theme=dark] .colab-df-convert:hover {\n",
              "      background-color: #434B5C;\n",
              "      box-shadow: 0px 1px 3px 1px rgba(0, 0, 0, 0.15);\n",
              "      filter: drop-shadow(0px 1px 2px rgba(0, 0, 0, 0.3));\n",
              "      fill: #FFFFFF;\n",
              "    }\n",
              "  </style>\n",
              "\n",
              "      <script>\n",
              "        const buttonEl =\n",
              "          document.querySelector('#df-bd71be16-a42d-44bb-9b8e-a23c2f601b7f button.colab-df-convert');\n",
              "        buttonEl.style.display =\n",
              "          google.colab.kernel.accessAllowed ? 'block' : 'none';\n",
              "\n",
              "        async function convertToInteractive(key) {\n",
              "          const element = document.querySelector('#df-bd71be16-a42d-44bb-9b8e-a23c2f601b7f');\n",
              "          const dataTable =\n",
              "            await google.colab.kernel.invokeFunction('convertToInteractive',\n",
              "                                                     [key], {});\n",
              "          if (!dataTable) return;\n",
              "\n",
              "          const docLinkHtml = 'Like what you see? Visit the ' +\n",
              "            '<a target=\"_blank\" href=https://colab.research.google.com/notebooks/data_table.ipynb>data table notebook</a>'\n",
              "            + ' to learn more about interactive tables.';\n",
              "          element.innerHTML = '';\n",
              "          dataTable['output_type'] = 'display_data';\n",
              "          await google.colab.output.renderOutput(dataTable, element);\n",
              "          const docLink = document.createElement('div');\n",
              "          docLink.innerHTML = docLinkHtml;\n",
              "          element.appendChild(docLink);\n",
              "        }\n",
              "      </script>\n",
              "    </div>\n",
              "  </div>\n",
              "  "
            ]
          },
          "metadata": {},
          "execution_count": 50
        }
      ]
    },
    {
      "cell_type": "code",
      "source": [
        "mydata.shape"
      ],
      "metadata": {
        "colab": {
          "base_uri": "https://localhost:8080/"
        },
        "id": "JVTizfutm3Ze",
        "outputId": "0406ee44-e256-4503-9a98-85a0c3c769d1"
      },
      "execution_count": null,
      "outputs": [
        {
          "output_type": "execute_result",
          "data": {
            "text/plain": [
              "(26707, 33)"
            ]
          },
          "metadata": {},
          "execution_count": 51
        }
      ]
    },
    {
      "cell_type": "code",
      "source": [
        "mydata.info()"
      ],
      "metadata": {
        "colab": {
          "base_uri": "https://localhost:8080/"
        },
        "id": "-UT2govOm_qC",
        "outputId": "bdedb2fb-ef45-4f1d-ee19-bf68eed15582"
      },
      "execution_count": null,
      "outputs": [
        {
          "output_type": "stream",
          "name": "stdout",
          "text": [
            "<class 'pandas.core.frame.DataFrame'>\n",
            "Int64Index: 26707 entries, 0 to 26706\n",
            "Data columns (total 33 columns):\n",
            " #   Column                     Non-Null Count  Dtype  \n",
            "---  ------                     --------------  -----  \n",
            " 0   h1n1_worry                 26615 non-null  float64\n",
            " 1   h1n1_awareness             26591 non-null  float64\n",
            " 2   antiviral_medication       26636 non-null  float64\n",
            " 3   contact_avoidance          26499 non-null  float64\n",
            " 4   bought_face_mask           26688 non-null  float64\n",
            " 5   wash_hands_frequently      26665 non-null  float64\n",
            " 6   avoid_large_gatherings     26620 non-null  float64\n",
            " 7   reduced_outside_home_cont  26625 non-null  float64\n",
            " 8   avoid_touch_face           26579 non-null  float64\n",
            " 9   dr_recc_h1n1_vacc          24547 non-null  float64\n",
            " 10  dr_recc_seasonal_vacc      24547 non-null  float64\n",
            " 11  chronic_medic_condition    25736 non-null  float64\n",
            " 12  cont_child_undr_6_mnths    25887 non-null  float64\n",
            " 13  is_health_worker           25903 non-null  float64\n",
            " 14  has_health_insur           14433 non-null  float64\n",
            " 15  is_h1n1_vacc_effective     26316 non-null  float64\n",
            " 16  is_h1n1_risky              26319 non-null  float64\n",
            " 17  sick_from_h1n1_vacc        26312 non-null  float64\n",
            " 18  is_seas_vacc_effective     26245 non-null  float64\n",
            " 19  is_seas_risky              26193 non-null  float64\n",
            " 20  sick_from_seas_vacc        26170 non-null  float64\n",
            " 21  age_bracket                26707 non-null  object \n",
            " 22  qualification              25300 non-null  object \n",
            " 23  race                       26707 non-null  object \n",
            " 24  sex                        26707 non-null  object \n",
            " 25  income_level               22284 non-null  object \n",
            " 26  marital_status             25299 non-null  object \n",
            " 27  housing_status             24665 non-null  object \n",
            " 28  employment                 25244 non-null  object \n",
            " 29  census_msa                 26707 non-null  object \n",
            " 30  no_of_adults               26458 non-null  float64\n",
            " 31  no_of_children             26458 non-null  float64\n",
            " 32  h1n1_vaccine               26707 non-null  int64  \n",
            "dtypes: float64(23), int64(1), object(9)\n",
            "memory usage: 6.9+ MB\n"
          ]
        }
      ]
    },
    {
      "cell_type": "code",
      "source": [
        "mydata.isnull().sum()"
      ],
      "metadata": {
        "colab": {
          "base_uri": "https://localhost:8080/"
        },
        "id": "e3jtwxdJpJ0q",
        "outputId": "f7c43176-8630-482f-e786-2bf4a633d036"
      },
      "execution_count": null,
      "outputs": [
        {
          "output_type": "execute_result",
          "data": {
            "text/plain": [
              "h1n1_worry                      92\n",
              "h1n1_awareness                 116\n",
              "antiviral_medication            71\n",
              "contact_avoidance              208\n",
              "bought_face_mask                19\n",
              "wash_hands_frequently           42\n",
              "avoid_large_gatherings          87\n",
              "reduced_outside_home_cont       82\n",
              "avoid_touch_face               128\n",
              "dr_recc_h1n1_vacc             2160\n",
              "dr_recc_seasonal_vacc         2160\n",
              "chronic_medic_condition        971\n",
              "cont_child_undr_6_mnths        820\n",
              "is_health_worker               804\n",
              "has_health_insur             12274\n",
              "is_h1n1_vacc_effective         391\n",
              "is_h1n1_risky                  388\n",
              "sick_from_h1n1_vacc            395\n",
              "is_seas_vacc_effective         462\n",
              "is_seas_risky                  514\n",
              "sick_from_seas_vacc            537\n",
              "age_bracket                      0\n",
              "qualification                 1407\n",
              "race                             0\n",
              "sex                              0\n",
              "income_level                  4423\n",
              "marital_status                1408\n",
              "housing_status                2042\n",
              "employment                    1463\n",
              "census_msa                       0\n",
              "no_of_adults                   249\n",
              "no_of_children                 249\n",
              "h1n1_vaccine                     0\n",
              "dtype: int64"
            ]
          },
          "metadata": {},
          "execution_count": 53
        }
      ]
    },
    {
      "cell_type": "code",
      "source": [
        "mydata.dtypes"
      ],
      "metadata": {
        "colab": {
          "base_uri": "https://localhost:8080/"
        },
        "id": "se5CNeHZpdQc",
        "outputId": "3d7f4b29-edc2-4ac4-9349-07c110c8eea3"
      },
      "execution_count": null,
      "outputs": [
        {
          "output_type": "execute_result",
          "data": {
            "text/plain": [
              "h1n1_worry                   float64\n",
              "h1n1_awareness               float64\n",
              "antiviral_medication         float64\n",
              "contact_avoidance            float64\n",
              "bought_face_mask             float64\n",
              "wash_hands_frequently        float64\n",
              "avoid_large_gatherings       float64\n",
              "reduced_outside_home_cont    float64\n",
              "avoid_touch_face             float64\n",
              "dr_recc_h1n1_vacc            float64\n",
              "dr_recc_seasonal_vacc        float64\n",
              "chronic_medic_condition      float64\n",
              "cont_child_undr_6_mnths      float64\n",
              "is_health_worker             float64\n",
              "has_health_insur             float64\n",
              "is_h1n1_vacc_effective       float64\n",
              "is_h1n1_risky                float64\n",
              "sick_from_h1n1_vacc          float64\n",
              "is_seas_vacc_effective       float64\n",
              "is_seas_risky                float64\n",
              "sick_from_seas_vacc          float64\n",
              "age_bracket                   object\n",
              "qualification                 object\n",
              "race                          object\n",
              "sex                           object\n",
              "income_level                  object\n",
              "marital_status                object\n",
              "housing_status                object\n",
              "employment                    object\n",
              "census_msa                    object\n",
              "no_of_adults                 float64\n",
              "no_of_children               float64\n",
              "h1n1_vaccine                   int64\n",
              "dtype: object"
            ]
          },
          "metadata": {},
          "execution_count": 54
        }
      ]
    },
    {
      "cell_type": "markdown",
      "source": [
        "**Analyse data**\n"
      ],
      "metadata": {
        "id": "sBbrkx0I-KTU"
      }
    },
    {
      "cell_type": "code",
      "source": [
        "sns.countplot(x='h1n1_vaccine',data=mydata)"
      ],
      "metadata": {
        "colab": {
          "base_uri": "https://localhost:8080/",
          "height": 467
        },
        "id": "oA2jIbQz-S1J",
        "outputId": "b10b0d68-d17b-47ab-8b3d-202689205de1"
      },
      "execution_count": null,
      "outputs": [
        {
          "output_type": "execute_result",
          "data": {
            "text/plain": [
              "<Axes: xlabel='h1n1_vaccine', ylabel='count'>"
            ]
          },
          "metadata": {},
          "execution_count": 55
        },
        {
          "output_type": "display_data",
          "data": {
            "text/plain": [
              "<Figure size 640x480 with 1 Axes>"
            ],
            "image/png": "[encoded data removed]"
          },
          "metadata": {}
        }
      ]
    },
    {
      "cell_type": "code",
      "source": [
        "pd.crosstab(mydata['h1n1_vaccine'],mydata['h1n1_worry'])"
      ],
      "metadata": {
        "colab": {
          "base_uri": "https://localhost:8080/",
          "height": 143
        },
        "id": "9WfoARtj-g8k",
        "outputId": "01914961-1ecc-49bf-90ba-a27f6e0895d6"
      },
      "execution_count": null,
      "outputs": [
        {
          "output_type": "execute_result",
          "data": {
            "text/plain": [
              "h1n1_worry     0.0   1.0   2.0   3.0\n",
              "h1n1_vaccine                        \n",
              "0             2849  6756  8102  3250\n",
              "1              447  1397  2473  1341"
            ],
            "text/html": [
              "\n",
              "  <div id=\"df-a15ae394-c1af-4645-81bf-d769e4356e8f\">\n",
              "    <div class=\"colab-df-container\">\n",
              "      <div>\n",
              "<style scoped>\n",
              "    .dataframe tbody tr th:only-of-type {\n",
              "        vertical-align: middle;\n",
              "    }\n",
              "\n",
              "    .dataframe tbody tr th {\n",
              "        vertical-align: top;\n",
              "    }\n",
              "\n",
              "    .dataframe thead th {\n",
              "        text-align: right;\n",
              "    }\n",
              "</style>\n",
              "<table border=\"1\" class=\"dataframe\">\n",
              "  <thead>\n",
              "    <tr style=\"text-align: right;\">\n",
              "      <th>h1n1_worry</th>\n",
              "      <th>0.0</th>\n",
              "      <th>1.0</th>\n",
              "      <th>2.0</th>\n",
              "      <th>3.0</th>\n",
              "    </tr>\n",
              "    <tr>\n",
              "      <th>h1n1_vaccine</th>\n",
              "      <th></th>\n",
              "      <th></th>\n",
              "      <th></th>\n",
              "      <th></th>\n",
              "    </tr>\n",
              "  </thead>\n",
              "  <tbody>\n",
              "    <tr>\n",
              "      <th>0</th>\n",
              "      <td>2849</td>\n",
              "      <td>6756</td>\n",
              "      <td>8102</td>\n",
              "      <td>3250</td>\n",
              "    </tr>\n",
              "    <tr>\n",
              "      <th>1</th>\n",
              "      <td>447</td>\n",
              "      <td>1397</td>\n",
              "      <td>2473</td>\n",
              "      <td>1341</td>\n",
              "    </tr>\n",
              "  </tbody>\n",
              "</table>\n",
              "</div>\n",
              "      <button class=\"colab-df-convert\" onclick=\"convertToInteractive('df-a15ae394-c1af-4645-81bf-d769e4356e8f')\"\n",
              "              title=\"Convert this dataframe to an interactive table.\"\n",
              "              style=\"display:none;\">\n",
              "        \n",
              "  <svg xmlns=\"http://www.w3.org/2000/svg\" height=\"24px\"viewBox=\"0 0 24 24\"\n",
              "       width=\"24px\">\n",
              "    <path d=\"M0 0h24v24H0V0z\" fill=\"none\"/>\n",
              "    <path d=\"M18.56 5.44l.94 2.06.94-2.06 2.06-.94-2.06-.94-.94-2.06-.94 2.06-2.06.94zm-11 1L8.5 8.5l.94-2.06 2.06-.94-2.06-.94L8.5 2.5l-.94 2.06-2.06.94zm10 10l.94 2.06.94-2.06 2.06-.94-2.06-.94-.94-2.06-.94 2.06-2.06.94z\"/><path d=\"M17.41 7.96l-1.37-1.37c-.4-.4-.92-.59-1.43-.59-.52 0-1.04.2-1.43.59L10.3 9.45l-7.72 7.72c-.78.78-.78 2.05 0 2.83L4 21.41c.39.39.9.59 1.41.59.51 0 1.02-.2 1.41-.59l7.78-7.78 2.81-2.81c.8-.78.8-2.07 0-2.86zM5.41 20L4 18.59l7.72-7.72 1.47 1.35L5.41 20z\"/>\n",
              "  </svg>\n",
              "      </button>\n",
              "      \n",
              "  <style>\n",
              "    .colab-df-container {\n",
              "      display:flex;\n",
              "      flex-wrap:wrap;\n",
              "      gap: 12px;\n",
              "    }\n",
              "\n",
              "    .colab-df-convert {\n",
              "      background-color: #E8F0FE;\n",
              "      border: none;\n",
              "      border-radius: 50%;\n",
              "      cursor: pointer;\n",
              "      display: none;\n",
              "      fill: #1967D2;\n",
              "      height: 32px;\n",
              "      padding: 0 0 0 0;\n",
              "      width: 32px;\n",
              "    }\n",
              "\n",
              "    .colab-df-convert:hover {\n",
              "      background-color: #E2EBFA;\n",
              "      box-shadow: 0px 1px 2px rgba(60, 64, 67, 0.3), 0px 1px 3px 1px rgba(60, 64, 67, 0.15);\n",
              "      fill: #174EA6;\n",
              "    }\n",
              "\n",
              "    [theme=dark] .colab-df-convert {\n",
              "      background-color: #3B4455;\n",
              "      fill: #D2E3FC;\n",
              "    }\n",
              "\n",
              "    [theme=dark] .colab-df-convert:hover {\n",
              "      background-color: #434B5C;\n",
              "      box-shadow: 0px 1px 3px 1px rgba(0, 0, 0, 0.15);\n",
              "      filter: drop-shadow(0px 1px 2px rgba(0, 0, 0, 0.3));\n",
              "      fill: #FFFFFF;\n",
              "    }\n",
              "  </style>\n",
              "\n",
              "      <script>\n",
              "        const buttonEl =\n",
              "          document.querySelector('#df-a15ae394-c1af-4645-81bf-d769e4356e8f button.colab-df-convert');\n",
              "        buttonEl.style.display =\n",
              "          google.colab.kernel.accessAllowed ? 'block' : 'none';\n",
              "\n",
              "        async function convertToInteractive(key) {\n",
              "          const element = document.querySelector('#df-a15ae394-c1af-4645-81bf-d769e4356e8f');\n",
              "          const dataTable =\n",
              "            await google.colab.kernel.invokeFunction('convertToInteractive',\n",
              "                                                     [key], {});\n",
              "          if (!dataTable) return;\n",
              "\n",
              "          const docLinkHtml = 'Like what you see? Visit the ' +\n",
              "            '<a target=\"_blank\" href=https://colab.research.google.com/notebooks/data_table.ipynb>data table notebook</a>'\n",
              "            + ' to learn more about interactive tables.';\n",
              "          element.innerHTML = '';\n",
              "          dataTable['output_type'] = 'display_data';\n",
              "          await google.colab.output.renderOutput(dataTable, element);\n",
              "          const docLink = document.createElement('div');\n",
              "          docLink.innerHTML = docLinkHtml;\n",
              "          element.appendChild(docLink);\n",
              "        }\n",
              "      </script>\n",
              "    </div>\n",
              "  </div>\n",
              "  "
            ]
          },
          "metadata": {},
          "execution_count": 56
        }
      ]
    },
    {
      "cell_type": "code",
      "source": [
        "sns.countplot(x=\"h1n1_worry\",hue=\"h1n1_vaccine\",data=mydata)"
      ],
      "metadata": {
        "colab": {
          "base_uri": "https://localhost:8080/",
          "height": 467
        },
        "id": "EcPzAva_AzSl",
        "outputId": "6b1e7ce6-0c2d-4ea1-9554-50d6ddf4d118"
      },
      "execution_count": null,
      "outputs": [
        {
          "output_type": "execute_result",
          "data": {
            "text/plain": [
              "<Axes: xlabel='h1n1_worry', ylabel='count'>"
            ]
          },
          "metadata": {},
          "execution_count": 57
        },
        {
          "output_type": "display_data",
          "data": {
            "text/plain": [
              "<Figure size 640x480 with 1 Axes>"
            ],
            "image/png": "[encoded data removed]"
          },
          "metadata": {}
        }
      ]
    },
    {
      "cell_type": "code",
      "source": [
        "counts = (mydata[['h1n1_worry', 'h1n1_vaccine']]\n",
        "              .groupby(['h1n1_worry', 'h1n1_vaccine'])\n",
        "              .size()\n",
        "              .unstack('h1n1_vaccine')\n",
        "         )\n",
        "counts"
      ],
      "metadata": {
        "colab": {
          "base_uri": "https://localhost:8080/",
          "height": 206
        },
        "id": "TK7-tGIDBUiK",
        "outputId": "e5278af9-47a9-454b-8edf-5d1dab386ac0"
      },
      "execution_count": null,
      "outputs": [
        {
          "output_type": "execute_result",
          "data": {
            "text/plain": [
              "h1n1_vaccine     0     1\n",
              "h1n1_worry              \n",
              "0.0           2849   447\n",
              "1.0           6756  1397\n",
              "2.0           8102  2473\n",
              "3.0           3250  1341"
            ],
            "text/html": [
              "\n",
              "  <div id=\"df-4b1e5b62-9998-45e4-9aa4-1664af2f86dc\">\n",
              "    <div class=\"colab-df-container\">\n",
              "      <div>\n",
              "<style scoped>\n",
              "    .dataframe tbody tr th:only-of-type {\n",
              "        vertical-align: middle;\n",
              "    }\n",
              "\n",
              "    .dataframe tbody tr th {\n",
              "        vertical-align: top;\n",
              "    }\n",
              "\n",
              "    .dataframe thead th {\n",
              "        text-align: right;\n",
              "    }\n",
              "</style>\n",
              "<table border=\"1\" class=\"dataframe\">\n",
              "  <thead>\n",
              "    <tr style=\"text-align: right;\">\n",
              "      <th>h1n1_vaccine</th>\n",
              "      <th>0</th>\n",
              "      <th>1</th>\n",
              "    </tr>\n",
              "    <tr>\n",
              "      <th>h1n1_worry</th>\n",
              "      <th></th>\n",
              "      <th></th>\n",
              "    </tr>\n",
              "  </thead>\n",
              "  <tbody>\n",
              "    <tr>\n",
              "      <th>0.0</th>\n",
              "      <td>2849</td>\n",
              "      <td>447</td>\n",
              "    </tr>\n",
              "    <tr>\n",
              "      <th>1.0</th>\n",
              "      <td>6756</td>\n",
              "      <td>1397</td>\n",
              "    </tr>\n",
              "    <tr>\n",
              "      <th>2.0</th>\n",
              "      <td>8102</td>\n",
              "      <td>2473</td>\n",
              "    </tr>\n",
              "    <tr>\n",
              "      <th>3.0</th>\n",
              "      <td>3250</td>\n",
              "      <td>1341</td>\n",
              "    </tr>\n",
              "  </tbody>\n",
              "</table>\n",
              "</div>\n",
              "      <button class=\"colab-df-convert\" onclick=\"convertToInteractive('df-4b1e5b62-9998-45e4-9aa4-1664af2f86dc')\"\n",
              "              title=\"Convert this dataframe to an interactive table.\"\n",
              "              style=\"display:none;\">\n",
              "        \n",
              "  <svg xmlns=\"http://www.w3.org/2000/svg\" height=\"24px\"viewBox=\"0 0 24 24\"\n",
              "       width=\"24px\">\n",
              "    <path d=\"M0 0h24v24H0V0z\" fill=\"none\"/>\n",
              "    <path d=\"M18.56 5.44l.94 2.06.94-2.06 2.06-.94-2.06-.94-.94-2.06-.94 2.06-2.06.94zm-11 1L8.5 8.5l.94-2.06 2.06-.94-2.06-.94L8.5 2.5l-.94 2.06-2.06.94zm10 10l.94 2.06.94-2.06 2.06-.94-2.06-.94-.94-2.06-.94 2.06-2.06.94z\"/><path d=\"M17.41 7.96l-1.37-1.37c-.4-.4-.92-.59-1.43-.59-.52 0-1.04.2-1.43.59L10.3 9.45l-7.72 7.72c-.78.78-.78 2.05 0 2.83L4 21.41c.39.39.9.59 1.41.59.51 0 1.02-.2 1.41-.59l7.78-7.78 2.81-2.81c.8-.78.8-2.07 0-2.86zM5.41 20L4 18.59l7.72-7.72 1.47 1.35L5.41 20z\"/>\n",
              "  </svg>\n",
              "      </button>\n",
              "      \n",
              "  <style>\n",
              "    .colab-df-container {\n",
              "      display:flex;\n",
              "      flex-wrap:wrap;\n",
              "      gap: 12px;\n",
              "    }\n",
              "\n",
              "    .colab-df-convert {\n",
              "      background-color: #E8F0FE;\n",
              "      border: none;\n",
              "      border-radius: 50%;\n",
              "      cursor: pointer;\n",
              "      display: none;\n",
              "      fill: #1967D2;\n",
              "      height: 32px;\n",
              "      padding: 0 0 0 0;\n",
              "      width: 32px;\n",
              "    }\n",
              "\n",
              "    .colab-df-convert:hover {\n",
              "      background-color: #E2EBFA;\n",
              "      box-shadow: 0px 1px 2px rgba(60, 64, 67, 0.3), 0px 1px 3px 1px rgba(60, 64, 67, 0.15);\n",
              "      fill: #174EA6;\n",
              "    }\n",
              "\n",
              "    [theme=dark] .colab-df-convert {\n",
              "      background-color: #3B4455;\n",
              "      fill: #D2E3FC;\n",
              "    }\n",
              "\n",
              "    [theme=dark] .colab-df-convert:hover {\n",
              "      background-color: #434B5C;\n",
              "      box-shadow: 0px 1px 3px 1px rgba(0, 0, 0, 0.15);\n",
              "      filter: drop-shadow(0px 1px 2px rgba(0, 0, 0, 0.3));\n",
              "      fill: #FFFFFF;\n",
              "    }\n",
              "  </style>\n",
              "\n",
              "      <script>\n",
              "        const buttonEl =\n",
              "          document.querySelector('#df-4b1e5b62-9998-45e4-9aa4-1664af2f86dc button.colab-df-convert');\n",
              "        buttonEl.style.display =\n",
              "          google.colab.kernel.accessAllowed ? 'block' : 'none';\n",
              "\n",
              "        async function convertToInteractive(key) {\n",
              "          const element = document.querySelector('#df-4b1e5b62-9998-45e4-9aa4-1664af2f86dc');\n",
              "          const dataTable =\n",
              "            await google.colab.kernel.invokeFunction('convertToInteractive',\n",
              "                                                     [key], {});\n",
              "          if (!dataTable) return;\n",
              "\n",
              "          const docLinkHtml = 'Like what you see? Visit the ' +\n",
              "            '<a target=\"_blank\" href=https://colab.research.google.com/notebooks/data_table.ipynb>data table notebook</a>'\n",
              "            + ' to learn more about interactive tables.';\n",
              "          element.innerHTML = '';\n",
              "          dataTable['output_type'] = 'display_data';\n",
              "          await google.colab.output.renderOutput(dataTable, element);\n",
              "          const docLink = document.createElement('div');\n",
              "          docLink.innerHTML = docLinkHtml;\n",
              "          element.appendChild(docLink);\n",
              "        }\n",
              "      </script>\n",
              "    </div>\n",
              "  </div>\n",
              "  "
            ]
          },
          "metadata": {},
          "execution_count": 58
        }
      ]
    },
    {
      "cell_type": "code",
      "source": [
        "ax = counts.plot.barh()\n",
        "ax.invert_yaxis()\n",
        "ax.legend(\n",
        "    loc='center right',\n",
        "    bbox_to_anchor=(1.3, 0.5),\n",
        "    title='h1n1_vaccine'\n",
        ")"
      ],
      "metadata": {
        "colab": {
          "base_uri": "https://localhost:8080/",
          "height": 447
        },
        "id": "XUoLaJN3Nife",
        "outputId": "a5c3ce42-d890-492d-905e-ccdeb203bfe2"
      },
      "execution_count": null,
      "outputs": [
        {
          "output_type": "execute_result",
          "data": {
            "text/plain": [
              "<matplotlib.legend.Legend at 0x7f4bb8d5a460>"
            ]
          },
          "metadata": {},
          "execution_count": 59
        },
        {
          "output_type": "display_data",
          "data": {
            "text/plain": [
              "<Figure size 640x480 with 1 Axes>"
            ],
            "image/png": "[encoded data removed]"
          },
          "metadata": {}
        }
      ]
    },
    {
      "cell_type": "code",
      "source": [
        "h1n1_worry_counts = counts.sum(axis='columns')\n",
        "h1n1_worry_counts"
      ],
      "metadata": {
        "colab": {
          "base_uri": "https://localhost:8080/"
        },
        "id": "X8qA-YUYQ1vX",
        "outputId": "f36c28aa-996f-42bd-e472-d02e8fe16049"
      },
      "execution_count": null,
      "outputs": [
        {
          "output_type": "execute_result",
          "data": {
            "text/plain": [
              "h1n1_worry\n",
              "0.0     3296\n",
              "1.0     8153\n",
              "2.0    10575\n",
              "3.0     4591\n",
              "dtype: int64"
            ]
          },
          "metadata": {},
          "execution_count": 60
        }
      ]
    },
    {
      "cell_type": "code",
      "source": [
        "props = counts.div(h1n1_worry_counts, axis='index')\n",
        "props"
      ],
      "metadata": {
        "colab": {
          "base_uri": "https://localhost:8080/",
          "height": 206
        },
        "id": "uZUeFouMRB8I",
        "outputId": "295f8754-53db-424d-8cd3-dc7c5cadd84f"
      },
      "execution_count": null,
      "outputs": [
        {
          "output_type": "execute_result",
          "data": {
            "text/plain": [
              "h1n1_vaccine         0         1\n",
              "h1n1_worry                      \n",
              "0.0           0.864381  0.135619\n",
              "1.0           0.828652  0.171348\n",
              "2.0           0.766147  0.233853\n",
              "3.0           0.707907  0.292093"
            ],
            "text/html": [
              "\n",
              "  <div id=\"df-f8c93319-8d3a-467a-8999-1ab58e45e9c0\">\n",
              "    <div class=\"colab-df-container\">\n",
              "      <div>\n",
              "<style scoped>\n",
              "    .dataframe tbody tr th:only-of-type {\n",
              "        vertical-align: middle;\n",
              "    }\n",
              "\n",
              "    .dataframe tbody tr th {\n",
              "        vertical-align: top;\n",
              "    }\n",
              "\n",
              "    .dataframe thead th {\n",
              "        text-align: right;\n",
              "    }\n",
              "</style>\n",
              "<table border=\"1\" class=\"dataframe\">\n",
              "  <thead>\n",
              "    <tr style=\"text-align: right;\">\n",
              "      <th>h1n1_vaccine</th>\n",
              "      <th>0</th>\n",
              "      <th>1</th>\n",
              "    </tr>\n",
              "    <tr>\n",
              "      <th>h1n1_worry</th>\n",
              "      <th></th>\n",
              "      <th></th>\n",
              "    </tr>\n",
              "  </thead>\n",
              "  <tbody>\n",
              "    <tr>\n",
              "      <th>0.0</th>\n",
              "      <td>0.864381</td>\n",
              "      <td>0.135619</td>\n",
              "    </tr>\n",
              "    <tr>\n",
              "      <th>1.0</th>\n",
              "      <td>0.828652</td>\n",
              "      <td>0.171348</td>\n",
              "    </tr>\n",
              "    <tr>\n",
              "      <th>2.0</th>\n",
              "      <td>0.766147</td>\n",
              "      <td>0.233853</td>\n",
              "    </tr>\n",
              "    <tr>\n",
              "      <th>3.0</th>\n",
              "      <td>0.707907</td>\n",
              "      <td>0.292093</td>\n",
              "    </tr>\n",
              "  </tbody>\n",
              "</table>\n",
              "</div>\n",
              "      <button class=\"colab-df-convert\" onclick=\"convertToInteractive('df-f8c93319-8d3a-467a-8999-1ab58e45e9c0')\"\n",
              "              title=\"Convert this dataframe to an interactive table.\"\n",
              "              style=\"display:none;\">\n",
              "        \n",
              "  <svg xmlns=\"http://www.w3.org/2000/svg\" height=\"24px\"viewBox=\"0 0 24 24\"\n",
              "       width=\"24px\">\n",
              "    <path d=\"M0 0h24v24H0V0z\" fill=\"none\"/>\n",
              "    <path d=\"M18.56 5.44l.94 2.06.94-2.06 2.06-.94-2.06-.94-.94-2.06-.94 2.06-2.06.94zm-11 1L8.5 8.5l.94-2.06 2.06-.94-2.06-.94L8.5 2.5l-.94 2.06-2.06.94zm10 10l.94 2.06.94-2.06 2.06-.94-2.06-.94-.94-2.06-.94 2.06-2.06.94z\"/><path d=\"M17.41 7.96l-1.37-1.37c-.4-.4-.92-.59-1.43-.59-.52 0-1.04.2-1.43.59L10.3 9.45l-7.72 7.72c-.78.78-.78 2.05 0 2.83L4 21.41c.39.39.9.59 1.41.59.51 0 1.02-.2 1.41-.59l7.78-7.78 2.81-2.81c.8-.78.8-2.07 0-2.86zM5.41 20L4 18.59l7.72-7.72 1.47 1.35L5.41 20z\"/>\n",
              "  </svg>\n",
              "      </button>\n",
              "      \n",
              "  <style>\n",
              "    .colab-df-container {\n",
              "      display:flex;\n",
              "      flex-wrap:wrap;\n",
              "      gap: 12px;\n",
              "    }\n",
              "\n",
              "    .colab-df-convert {\n",
              "      background-color: #E8F0FE;\n",
              "      border: none;\n",
              "      border-radius: 50%;\n",
              "      cursor: pointer;\n",
              "      display: none;\n",
              "      fill: #1967D2;\n",
              "      height: 32px;\n",
              "      padding: 0 0 0 0;\n",
              "      width: 32px;\n",
              "    }\n",
              "\n",
              "    .colab-df-convert:hover {\n",
              "      background-color: #E2EBFA;\n",
              "      box-shadow: 0px 1px 2px rgba(60, 64, 67, 0.3), 0px 1px 3px 1px rgba(60, 64, 67, 0.15);\n",
              "      fill: #174EA6;\n",
              "    }\n",
              "\n",
              "    [theme=dark] .colab-df-convert {\n",
              "      background-color: #3B4455;\n",
              "      fill: #D2E3FC;\n",
              "    }\n",
              "\n",
              "    [theme=dark] .colab-df-convert:hover {\n",
              "      background-color: #434B5C;\n",
              "      box-shadow: 0px 1px 3px 1px rgba(0, 0, 0, 0.15);\n",
              "      filter: drop-shadow(0px 1px 2px rgba(0, 0, 0, 0.3));\n",
              "      fill: #FFFFFF;\n",
              "    }\n",
              "  </style>\n",
              "\n",
              "      <script>\n",
              "        const buttonEl =\n",
              "          document.querySelector('#df-f8c93319-8d3a-467a-8999-1ab58e45e9c0 button.colab-df-convert');\n",
              "        buttonEl.style.display =\n",
              "          google.colab.kernel.accessAllowed ? 'block' : 'none';\n",
              "\n",
              "        async function convertToInteractive(key) {\n",
              "          const element = document.querySelector('#df-f8c93319-8d3a-467a-8999-1ab58e45e9c0');\n",
              "          const dataTable =\n",
              "            await google.colab.kernel.invokeFunction('convertToInteractive',\n",
              "                                                     [key], {});\n",
              "          if (!dataTable) return;\n",
              "\n",
              "          const docLinkHtml = 'Like what you see? Visit the ' +\n",
              "            '<a target=\"_blank\" href=https://colab.research.google.com/notebooks/data_table.ipynb>data table notebook</a>'\n",
              "            + ' to learn more about interactive tables.';\n",
              "          element.innerHTML = '';\n",
              "          dataTable['output_type'] = 'display_data';\n",
              "          await google.colab.output.renderOutput(dataTable, element);\n",
              "          const docLink = document.createElement('div');\n",
              "          docLink.innerHTML = docLinkHtml;\n",
              "          element.appendChild(docLink);\n",
              "        }\n",
              "      </script>\n",
              "    </div>\n",
              "  </div>\n",
              "  "
            ]
          },
          "metadata": {},
          "execution_count": 61
        }
      ]
    },
    {
      "cell_type": "code",
      "source": [
        "ax = props.plot.barh()\n",
        "ax.invert_yaxis()\n",
        "ax.legend(\n",
        "    loc='center left',\n",
        "    bbox_to_anchor=(1.05, 0.5),\n",
        "    title='h1n1_vaccine'\n",
        ")"
      ],
      "metadata": {
        "colab": {
          "base_uri": "https://localhost:8080/",
          "height": 447
        },
        "id": "X8dDaN-jRJW8",
        "outputId": "3fe572f5-232f-468f-95bc-a631c215baca"
      },
      "execution_count": null,
      "outputs": [
        {
          "output_type": "execute_result",
          "data": {
            "text/plain": [
              "<matplotlib.legend.Legend at 0x7f4bb8bd5610>"
            ]
          },
          "metadata": {},
          "execution_count": 62
        },
        {
          "output_type": "display_data",
          "data": {
            "text/plain": [
              "<Figure size 640x480 with 1 Axes>"
            ],
            "image/png": "[encoded data removed]"
          },
          "metadata": {}
        }
      ]
    },
    {
      "cell_type": "code",
      "source": [
        "ax = props.plot.barh(stacked=True)\n",
        "ax.invert_yaxis()\n",
        "ax.legend(\n",
        "    loc='center left',\n",
        "    bbox_to_anchor=(1.05, 0.5),\n",
        "    title='h1n1_vaccine'\n",
        ")"
      ],
      "metadata": {
        "colab": {
          "base_uri": "https://localhost:8080/",
          "height": 447
        },
        "id": "RBMEA5hjRR5c",
        "outputId": "7e820bc8-13b5-4c29-952e-861cc773faef"
      },
      "execution_count": null,
      "outputs": [
        {
          "output_type": "execute_result",
          "data": {
            "text/plain": [
              "<matplotlib.legend.Legend at 0x7f4bb8b580d0>"
            ]
          },
          "metadata": {},
          "execution_count": 63
        },
        {
          "output_type": "display_data",
          "data": {
            "text/plain": [
              "<Figure size 640x480 with 1 Axes>"
            ],
            "image/png": "[encoded data removed]"
          },
          "metadata": {}
        }
      ]
    },
    {
      "cell_type": "code",
      "source": [
        "def vaccination_rate_plot(col, target, data, ax=None):\n",
        "    \"\"\"Stacked bar chart of vaccination rate for `target` against\n",
        "    `col`.\n",
        "\n",
        "    Args:\n",
        "        col (string): column name of feature variable\n",
        "        target (string): column name of target variable\n",
        "        data (pandas DataFrame): dataframe that contains columns\n",
        "            `col` and `target`\n",
        "        ax (matplotlib axes object, optional): matplotlib axes\n",
        "            object to attach plot to\n",
        "    \"\"\"\n",
        "    counts = (mydata[[target, col]]\n",
        "                  .groupby([target, col])\n",
        "                  .size()\n",
        "                  .unstack(target)\n",
        "             )\n",
        "    group_counts = counts.sum(axis='columns')\n",
        "    props = counts.div(group_counts, axis='index')\n",
        "\n",
        "    props.plot(kind=\"barh\", stacked=True, ax=ax)\n",
        "    ax.invert_yaxis()\n",
        "    ax.legend().remove()"
      ],
      "metadata": {
        "id": "coZk-VpuSS5w"
      },
      "execution_count": null,
      "outputs": []
    },
    {
      "cell_type": "code",
      "source": [
        "cols_to_plot = [\n",
        "    'h1n1_worry',\n",
        "    'h1n1_awareness',\n",
        "    'is_h1n1_vacc_effective',\n",
        "    'is_h1n1_risky',\n",
        "    'sick_from_h1n1_vacc',\n",
        "    'sex',\n",
        "    'age_bracket',\n",
        "    'race',\n",
        "]\n",
        "\n",
        "fig, ax = plt.subplots(\n",
        "    len(cols_to_plot),1, figsize=(9,len(cols_to_plot)*2.5))\n",
        "for idx, col in enumerate(cols_to_plot):\n",
        "    vaccination_rate_plot(\n",
        "        col, 'h1n1_vaccine', mydata, ax=ax[idx])\n",
        "\n",
        "ax[0].legend(\n",
        "    loc='lower center', bbox_to_anchor=(0.5, 1.05), title='h1n1_vaccine')\n",
        "fig.tight_layout()"
      ],
      "metadata": {
        "colab": {
          "base_uri": "https://localhost:8080/",
          "height": 1000
        },
        "id": "G3CefwasTTxC",
        "outputId": "c4cfcf32-7121-468a-b3a9-840f8416eedb"
      },
      "execution_count": null,
      "outputs": [
        {
          "output_type": "display_data",
          "data": {
            "text/plain": [
              "<Figure size 900x2000 with 8 Axes>"
            ],
            "image/png": "[encoded data removed]"
          },
          "metadata": {}
        }
      ]
    },
    {
      "cell_type": "code",
      "source": [
        "from sklearn.preprocessing import StandardScaler\n",
        "from sklearn.impute import SimpleImputer\n",
        "from sklearn.compose import ColumnTransformer\n",
        "\n",
        "from sklearn.linear_model import LogisticRegression\n",
        "from sklearn.multioutput import MultiOutputClassifier\n",
        "\n",
        "from sklearn.pipeline import Pipeline\n",
        "\n",
        "from sklearn.model_selection import train_test_split\n",
        "\n",
        "from sklearn.metrics import roc_curve, roc_auc_score\n",
        "\n",
        "RANDOM_SEED = 6    # Set a random seed for reproducibility!"
      ],
      "metadata": {
        "id": "XNiXlqjiZ0H2"
      },
      "execution_count": null,
      "outputs": []
    },
    {
      "cell_type": "code",
      "source": [
        "mydata.info()"
      ],
      "metadata": {
        "colab": {
          "base_uri": "https://localhost:8080/"
        },
        "id": "tcDAHDp_fG_h",
        "outputId": "f9a87346-629f-4f05-dffd-dbcfa5a6fe42"
      },
      "execution_count": null,
      "outputs": [
        {
          "output_type": "stream",
          "name": "stdout",
          "text": [
            "<class 'pandas.core.frame.DataFrame'>\n",
            "Int64Index: 26707 entries, 0 to 26706\n",
            "Data columns (total 33 columns):\n",
            " #   Column                     Non-Null Count  Dtype  \n",
            "---  ------                     --------------  -----  \n",
            " 0   h1n1_worry                 26615 non-null  float64\n",
            " 1   h1n1_awareness             26591 non-null  float64\n",
            " 2   antiviral_medication       26636 non-null  float64\n",
            " 3   contact_avoidance          26499 non-null  float64\n",
            " 4   bought_face_mask           26688 non-null  float64\n",
            " 5   wash_hands_frequently      26665 non-null  float64\n",
            " 6   avoid_large_gatherings     26620 non-null  float64\n",
            " 7   reduced_outside_home_cont  26625 non-null  float64\n",
            " 8   avoid_touch_face           26579 non-null  float64\n",
            " 9   dr_recc_h1n1_vacc          24547 non-null  float64\n",
            " 10  dr_recc_seasonal_vacc      24547 non-null  float64\n",
            " 11  chronic_medic_condition    25736 non-null  float64\n",
            " 12  cont_child_undr_6_mnths    25887 non-null  float64\n",
            " 13  is_health_worker           25903 non-null  float64\n",
            " 14  has_health_insur           14433 non-null  float64\n",
            " 15  is_h1n1_vacc_effective     26316 non-null  float64\n",
            " 16  is_h1n1_risky              26319 non-null  float64\n",
            " 17  sick_from_h1n1_vacc        26312 non-null  float64\n",
            " 18  is_seas_vacc_effective     26245 non-null  float64\n",
            " 19  is_seas_risky              26193 non-null  float64\n",
            " 20  sick_from_seas_vacc        26170 non-null  float64\n",
            " 21  age_bracket                26707 non-null  object \n",
            " 22  qualification              25300 non-null  object \n",
            " 23  race                       26707 non-null  object \n",
            " 24  sex                        26707 non-null  object \n",
            " 25  income_level               22284 non-null  object \n",
            " 26  marital_status             25299 non-null  object \n",
            " 27  housing_status             24665 non-null  object \n",
            " 28  employment                 25244 non-null  object \n",
            " 29  census_msa                 26707 non-null  object \n",
            " 30  no_of_adults               26458 non-null  float64\n",
            " 31  no_of_children             26458 non-null  float64\n",
            " 32  h1n1_vaccine               26707 non-null  int64  \n",
            "dtypes: float64(23), int64(1), object(9)\n",
            "memory usage: 6.9+ MB\n"
          ]
        }
      ]
    },
    {
      "cell_type": "code",
      "source": [
        "mydata=pd.get_dummies(mydata,columns=['age_bracket','race','sex'])"
      ],
      "metadata": {
        "id": "yxZeMDccMatd"
      },
      "execution_count": null,
      "outputs": []
    },
    {
      "cell_type": "code",
      "source": [
        "mydata.info()"
      ],
      "metadata": {
        "colab": {
          "base_uri": "https://localhost:8080/"
        },
        "id": "rmSWqfQSd2u9",
        "outputId": "37a02075-7b67-4032-b392-fa3bcec5696f"
      },
      "execution_count": null,
      "outputs": [
        {
          "output_type": "stream",
          "name": "stdout",
          "text": [
            "<class 'pandas.core.frame.DataFrame'>\n",
            "Int64Index: 26707 entries, 0 to 26706\n",
            "Data columns (total 41 columns):\n",
            " #   Column                     Non-Null Count  Dtype  \n",
            "---  ------                     --------------  -----  \n",
            " 0   h1n1_worry                 26615 non-null  float64\n",
            " 1   h1n1_awareness             26591 non-null  float64\n",
            " 2   antiviral_medication       26636 non-null  float64\n",
            " 3   contact_avoidance          26499 non-null  float64\n",
            " 4   bought_face_mask           26688 non-null  float64\n",
            " 5   wash_hands_frequently      26665 non-null  float64\n",
            " 6   avoid_large_gatherings     26620 non-null  float64\n",
            " 7   reduced_outside_home_cont  26625 non-null  float64\n",
            " 8   avoid_touch_face           26579 non-null  float64\n",
            " 9   dr_recc_h1n1_vacc          24547 non-null  float64\n",
            " 10  dr_recc_seasonal_vacc      24547 non-null  float64\n",
            " 11  chronic_medic_condition    25736 non-null  float64\n",
            " 12  cont_child_undr_6_mnths    25887 non-null  float64\n",
            " 13  is_health_worker           25903 non-null  float64\n",
            " 14  has_health_insur           14433 non-null  float64\n",
            " 15  is_h1n1_vacc_effective     26316 non-null  float64\n",
            " 16  is_h1n1_risky              26319 non-null  float64\n",
            " 17  sick_from_h1n1_vacc        26312 non-null  float64\n",
            " 18  is_seas_vacc_effective     26245 non-null  float64\n",
            " 19  is_seas_risky              26193 non-null  float64\n",
            " 20  sick_from_seas_vacc        26170 non-null  float64\n",
            " 21  qualification              25300 non-null  object \n",
            " 22  income_level               22284 non-null  object \n",
            " 23  marital_status             25299 non-null  object \n",
            " 24  housing_status             24665 non-null  object \n",
            " 25  employment                 25244 non-null  object \n",
            " 26  census_msa                 26707 non-null  object \n",
            " 27  no_of_adults               26458 non-null  float64\n",
            " 28  no_of_children             26458 non-null  float64\n",
            " 29  h1n1_vaccine               26707 non-null  int64  \n",
            " 30  age_bracket_18 - 34 Years  26707 non-null  uint8  \n",
            " 31  age_bracket_35 - 44 Years  26707 non-null  uint8  \n",
            " 32  age_bracket_45 - 54 Years  26707 non-null  uint8  \n",
            " 33  age_bracket_55 - 64 Years  26707 non-null  uint8  \n",
            " 34  age_bracket_65+ Years      26707 non-null  uint8  \n",
            " 35  race_Black                 26707 non-null  uint8  \n",
            " 36  race_Hispanic              26707 non-null  uint8  \n",
            " 37  race_Other or Multiple     26707 non-null  uint8  \n",
            " 38  race_White                 26707 non-null  uint8  \n",
            " 39  sex_Female                 26707 non-null  uint8  \n",
            " 40  sex_Male                   26707 non-null  uint8  \n",
            "dtypes: float64(23), int64(1), object(6), uint8(11)\n",
            "memory usage: 6.6+ MB\n"
          ]
        }
      ]
    },
    {
      "cell_type": "code",
      "source": [
        "mydata.drop(columns=['qualification','income_level','marital_status','housing_status','employment','census_msa'], axis=1,inplace=True)"
      ],
      "metadata": {
        "id": "AaqwIEaGgVDR"
      },
      "execution_count": null,
      "outputs": []
    },
    {
      "cell_type": "code",
      "source": [
        "mydata.info()"
      ],
      "metadata": {
        "colab": {
          "base_uri": "https://localhost:8080/"
        },
        "id": "YUy16cLUgakz",
        "outputId": "950fd826-9dbd-46db-e9c5-3198aab7ebb9"
      },
      "execution_count": null,
      "outputs": [
        {
          "output_type": "stream",
          "name": "stdout",
          "text": [
            "<class 'pandas.core.frame.DataFrame'>\n",
            "Int64Index: 26707 entries, 0 to 26706\n",
            "Data columns (total 35 columns):\n",
            " #   Column                     Non-Null Count  Dtype  \n",
            "---  ------                     --------------  -----  \n",
            " 0   h1n1_worry                 26615 non-null  float64\n",
            " 1   h1n1_awareness             26591 non-null  float64\n",
            " 2   antiviral_medication       26636 non-null  float64\n",
            " 3   contact_avoidance          26499 non-null  float64\n",
            " 4   bought_face_mask           26688 non-null  float64\n",
            " 5   wash_hands_frequently      26665 non-null  float64\n",
            " 6   avoid_large_gatherings     26620 non-null  float64\n",
            " 7   reduced_outside_home_cont  26625 non-null  float64\n",
            " 8   avoid_touch_face           26579 non-null  float64\n",
            " 9   dr_recc_h1n1_vacc          24547 non-null  float64\n",
            " 10  dr_recc_seasonal_vacc      24547 non-null  float64\n",
            " 11  chronic_medic_condition    25736 non-null  float64\n",
            " 12  cont_child_undr_6_mnths    25887 non-null  float64\n",
            " 13  is_health_worker           25903 non-null  float64\n",
            " 14  has_health_insur           14433 non-null  float64\n",
            " 15  is_h1n1_vacc_effective     26316 non-null  float64\n",
            " 16  is_h1n1_risky              26319 non-null  float64\n",
            " 17  sick_from_h1n1_vacc        26312 non-null  float64\n",
            " 18  is_seas_vacc_effective     26245 non-null  float64\n",
            " 19  is_seas_risky              26193 non-null  float64\n",
            " 20  sick_from_seas_vacc        26170 non-null  float64\n",
            " 21  no_of_adults               26458 non-null  float64\n",
            " 22  no_of_children             26458 non-null  float64\n",
            " 23  h1n1_vaccine               26707 non-null  int64  \n",
            " 24  age_bracket_18 - 34 Years  26707 non-null  uint8  \n",
            " 25  age_bracket_35 - 44 Years  26707 non-null  uint8  \n",
            " 26  age_bracket_45 - 54 Years  26707 non-null  uint8  \n",
            " 27  age_bracket_55 - 64 Years  26707 non-null  uint8  \n",
            " 28  age_bracket_65+ Years      26707 non-null  uint8  \n",
            " 29  race_Black                 26707 non-null  uint8  \n",
            " 30  race_Hispanic              26707 non-null  uint8  \n",
            " 31  race_Other or Multiple     26707 non-null  uint8  \n",
            " 32  race_White                 26707 non-null  uint8  \n",
            " 33  sex_Female                 26707 non-null  uint8  \n",
            " 34  sex_Male                   26707 non-null  uint8  \n",
            "dtypes: float64(23), int64(1), uint8(11)\n",
            "memory usage: 5.4 MB\n"
          ]
        }
      ]
    },
    {
      "cell_type": "code",
      "source": [
        "mydata.dropna(inplace=True)"
      ],
      "metadata": {
        "id": "B7J4Js2avs2k"
      },
      "execution_count": null,
      "outputs": []
    },
    {
      "cell_type": "code",
      "source": [
        "mydata.isnull().sum()"
      ],
      "metadata": {
        "colab": {
          "base_uri": "https://localhost:8080/"
        },
        "id": "QZWG4DobwN3z",
        "outputId": "58ecb130-d20a-4bec-c68d-4b07832e182d"
      },
      "execution_count": null,
      "outputs": [
        {
          "output_type": "execute_result",
          "data": {
            "text/plain": [
              "h1n1_worry                   0\n",
              "h1n1_awareness               0\n",
              "antiviral_medication         0\n",
              "contact_avoidance            0\n",
              "bought_face_mask             0\n",
              "wash_hands_frequently        0\n",
              "avoid_large_gatherings       0\n",
              "reduced_outside_home_cont    0\n",
              "avoid_touch_face             0\n",
              "dr_recc_h1n1_vacc            0\n",
              "dr_recc_seasonal_vacc        0\n",
              "chronic_medic_condition      0\n",
              "cont_child_undr_6_mnths      0\n",
              "is_health_worker             0\n",
              "has_health_insur             0\n",
              "is_h1n1_vacc_effective       0\n",
              "is_h1n1_risky                0\n",
              "sick_from_h1n1_vacc          0\n",
              "is_seas_vacc_effective       0\n",
              "is_seas_risky                0\n",
              "sick_from_seas_vacc          0\n",
              "no_of_adults                 0\n",
              "no_of_children               0\n",
              "h1n1_vaccine                 0\n",
              "age_bracket_18 - 34 Years    0\n",
              "age_bracket_35 - 44 Years    0\n",
              "age_bracket_45 - 54 Years    0\n",
              "age_bracket_55 - 64 Years    0\n",
              "age_bracket_65+ Years        0\n",
              "race_Black                   0\n",
              "race_Hispanic                0\n",
              "race_Other or Multiple       0\n",
              "race_White                   0\n",
              "sex_Female                   0\n",
              "sex_Male                     0\n",
              "dtype: int64"
            ]
          },
          "metadata": {},
          "execution_count": 73
        }
      ]
    },
    {
      "cell_type": "code",
      "source": [
        "mydata.dtypes"
      ],
      "metadata": {
        "colab": {
          "base_uri": "https://localhost:8080/"
        },
        "id": "2mgtTyZIwWZK",
        "outputId": "76936ff8-21dd-41aa-f01f-6e182a11d983"
      },
      "execution_count": null,
      "outputs": [
        {
          "output_type": "execute_result",
          "data": {
            "text/plain": [
              "h1n1_worry                   float64\n",
              "h1n1_awareness               float64\n",
              "antiviral_medication         float64\n",
              "contact_avoidance            float64\n",
              "bought_face_mask             float64\n",
              "wash_hands_frequently        float64\n",
              "avoid_large_gatherings       float64\n",
              "reduced_outside_home_cont    float64\n",
              "avoid_touch_face             float64\n",
              "dr_recc_h1n1_vacc            float64\n",
              "dr_recc_seasonal_vacc        float64\n",
              "chronic_medic_condition      float64\n",
              "cont_child_undr_6_mnths      float64\n",
              "is_health_worker             float64\n",
              "has_health_insur             float64\n",
              "is_h1n1_vacc_effective       float64\n",
              "is_h1n1_risky                float64\n",
              "sick_from_h1n1_vacc          float64\n",
              "is_seas_vacc_effective       float64\n",
              "is_seas_risky                float64\n",
              "sick_from_seas_vacc          float64\n",
              "no_of_adults                 float64\n",
              "no_of_children               float64\n",
              "h1n1_vaccine                   int64\n",
              "age_bracket_18 - 34 Years      uint8\n",
              "age_bracket_35 - 44 Years      uint8\n",
              "age_bracket_45 - 54 Years      uint8\n",
              "age_bracket_55 - 64 Years      uint8\n",
              "age_bracket_65+ Years          uint8\n",
              "race_Black                     uint8\n",
              "race_Hispanic                  uint8\n",
              "race_Other or Multiple         uint8\n",
              "race_White                     uint8\n",
              "sex_Female                     uint8\n",
              "sex_Male                       uint8\n",
              "dtype: object"
            ]
          },
          "metadata": {},
          "execution_count": 74
        }
      ]
    },
    {
      "cell_type": "code",
      "source": [
        "x=mydata.drop('h1n1_vaccine',axis=1)\n",
        "y=mydata['h1n1_vaccine']"
      ],
      "metadata": {
        "id": "0OTsaeutKSnF"
      },
      "execution_count": null,
      "outputs": []
    },
    {
      "cell_type": "code",
      "source": [
        "x_train, x_test, y_train, y_test = train_test_split(\n",
        "    x,\n",
        "    y,\n",
        "    test_size=0.33,\n",
        "    shuffle=True,\n",
        "    stratify=y,\n",
        "    random_state=RANDOM_SEED\n",
        ")"
      ],
      "metadata": {
        "id": "eJvYtFn7A31F"
      },
      "execution_count": null,
      "outputs": []
    },
    {
      "cell_type": "code",
      "source": [
        "model=LogisticRegression()"
      ],
      "metadata": {
        "id": "D95OnfJcJ15v"
      },
      "execution_count": null,
      "outputs": []
    },
    {
      "cell_type": "code",
      "source": [
        "model.fit(x_train,y_train)"
      ],
      "metadata": {
        "colab": {
          "base_uri": "https://localhost:8080/",
          "height": 74
        },
        "id": "8U49OFnGKwvh",
        "outputId": "c164990d-29f1-4039-c954-14aa8eea2264"
      },
      "execution_count": null,
      "outputs": [
        {
          "output_type": "execute_result",
          "data": {
            "text/plain": [
              "LogisticRegression()"
            ],
            "text/html": [
              "<style>#sk-container-id-4 {color: black;background-color: white;}#sk-container-id-4 pre{padding: 0;}#sk-container-id-4 div.sk-toggleable {background-color: white;}#sk-container-id-4 label.sk-toggleable__label {cursor: pointer;display: block;width: 100%;margin-bottom: 0;padding: 0.3em;box-sizing: border-box;text-align: center;}#sk-container-id-4 label.sk-toggleable__label-arrow:before {content: \"▸\";float: left;margin-right: 0.25em;color: #696969;}#sk-container-id-4 label.sk-toggleable__label-arrow:hover:before {color: black;}#sk-container-id-4 div.sk-estimator:hover label.sk-toggleable__label-arrow:before {color: black;}#sk-container-id-4 div.sk-toggleable__content {max-height: 0;max-width: 0;overflow: hidden;text-align: left;background-color: #f0f8ff;}#sk-container-id-4 div.sk-toggleable__content pre {margin: 0.2em;color: black;border-radius: 0.25em;background-color: #f0f8ff;}#sk-container-id-4 input.sk-toggleable__control:checked~div.sk-toggleable__content {max-height: 200px;max-width: 100%;overflow: auto;}#sk-container-id-4 input.sk-toggleable__control:checked~label.sk-toggleable__label-arrow:before {content: \"▾\";}#sk-container-id-4 div.sk-estimator input.sk-toggleable__control:checked~label.sk-toggleable__label {background-color: #d4ebff;}#sk-container-id-4 div.sk-label input.sk-toggleable__control:checked~label.sk-toggleable__label {background-color: #d4ebff;}#sk-container-id-4 input.sk-hidden--visually {border: 0;clip: rect(1px 1px 1px 1px);clip: rect(1px, 1px, 1px, 1px);height: 1px;margin: -1px;overflow: hidden;padding: 0;position: absolute;width: 1px;}#sk-container-id-4 div.sk-estimator {font-family: monospace;background-color: #f0f8ff;border: 1px dotted black;border-radius: 0.25em;box-sizing: border-box;margin-bottom: 0.5em;}#sk-container-id-4 div.sk-estimator:hover {background-color: #d4ebff;}#sk-container-id-4 div.sk-parallel-item::after {content: \"\";width: 100%;border-bottom: 1px solid gray;flex-grow: 1;}#sk-container-id-4 div.sk-label:hover label.sk-toggleable__label {background-color: #d4ebff;}#sk-container-id-4 div.sk-serial::before {content: \"\";position: absolute;border-left: 1px solid gray;box-sizing: border-box;top: 0;bottom: 0;left: 50%;z-index: 0;}#sk-container-id-4 div.sk-serial {display: flex;flex-direction: column;align-items: center;background-color: white;padding-right: 0.2em;padding-left: 0.2em;position: relative;}#sk-container-id-4 div.sk-item {position: relative;z-index: 1;}#sk-container-id-4 div.sk-parallel {display: flex;align-items: stretch;justify-content: center;background-color: white;position: relative;}#sk-container-id-4 div.sk-item::before, #sk-container-id-4 div.sk-parallel-item::before {content: \"\";position: absolute;border-left: 1px solid gray;box-sizing: border-box;top: 0;bottom: 0;left: 50%;z-index: -1;}#sk-container-id-4 div.sk-parallel-item {display: flex;flex-direction: column;z-index: 1;position: relative;background-color: white;}#sk-container-id-4 div.sk-parallel-item:first-child::after {align-self: flex-end;width: 50%;}#sk-container-id-4 div.sk-parallel-item:last-child::after {align-self: flex-start;width: 50%;}#sk-container-id-4 div.sk-parallel-item:only-child::after {width: 0;}#sk-container-id-4 div.sk-dashed-wrapped {border: 1px dashed gray;margin: 0 0.4em 0.5em 0.4em;box-sizing: border-box;padding-bottom: 0.4em;background-color: white;}#sk-container-id-4 div.sk-label label {font-family: monospace;font-weight: bold;display: inline-block;line-height: 1.2em;}#sk-container-id-4 div.sk-label-container {text-align: center;}#sk-container-id-4 div.sk-container {/* jupyter's `normalize.less` sets `[hidden] { display: none; }` but bootstrap.min.css set `[hidden] { display: none !important; }` so we also need the `!important` here to be able to override the default hidden behavior on the sphinx rendered scikit-learn.org. See: https://github.com/scikit-learn/scikit-learn/issues/21755 */display: inline-block !important;position: relative;}#sk-container-id-4 div.sk-text-repr-fallback {display: none;}</style><div id=\"sk-container-id-4\" class=\"sk-top-container\"><div class=\"sk-text-repr-fallback\"><pre>LogisticRegression()</pre><b>In a Jupyter environment, please rerun this cell to show the HTML representation or trust the notebook. <br />On GitHub, the HTML representation is unable to render, please try loading this page with nbviewer.org.</b></div><div class=\"sk-container\" hidden><div class=\"sk-item\"><div class=\"sk-estimator sk-toggleable\"><input class=\"sk-toggleable__control sk-hidden--visually\" id=\"sk-estimator-id-6\" type=\"checkbox\" checked><label for=\"sk-estimator-id-6\" class=\"sk-toggleable__label sk-toggleable__label-arrow\">LogisticRegression</label><div class=\"sk-toggleable__content\"><pre>LogisticRegression()</pre></div></div></div></div></div>"
            ]
          },
          "metadata": {},
          "execution_count": 78
        }
      ]
    },
    {
      "cell_type": "code",
      "source": [
        "model.score(x_train,y_train)"
      ],
      "metadata": {
        "colab": {
          "base_uri": "https://localhost:8080/"
        },
        "id": "LE07f9GzNnZ_",
        "outputId": "83ce0bc7-ac87-4963-c0c5-b4863c95f8bf"
      },
      "execution_count": null,
      "outputs": [
        {
          "output_type": "execute_result",
          "data": {
            "text/plain": [
              "0.8210852027848381"
            ]
          },
          "metadata": {},
          "execution_count": 79
        }
      ]
    },
    {
      "cell_type": "code",
      "source": [
        "model.score(x_test,y_test)"
      ],
      "metadata": {
        "colab": {
          "base_uri": "https://localhost:8080/"
        },
        "id": "d43CP804T6EZ",
        "outputId": "f2b70d05-b98f-45a5-af0c-d82ca21384b7"
      },
      "execution_count": null,
      "outputs": [
        {
          "output_type": "execute_result",
          "data": {
            "text/plain": [
              "0.8216288983621269"
            ]
          },
          "metadata": {},
          "execution_count": 80
        }
      ]
    },
    {
      "cell_type": "code",
      "source": [
        "predictions= model.predict(x_test)"
      ],
      "metadata": {
        "id": "94JJiTPQWP3N"
      },
      "execution_count": null,
      "outputs": []
    },
    {
      "cell_type": "code",
      "source": [
        "from sklearn.metrics import accuracy_score\n",
        "accuracy_score(y_test,predictions)"
      ],
      "metadata": {
        "colab": {
          "base_uri": "https://localhost:8080/"
        },
        "id": "rwI15ZMpusBJ",
        "outputId": "d8e36209-bd17-49dd-9ecf-df3a04913f67"
      },
      "execution_count": null,
      "outputs": [
        {
          "output_type": "execute_result",
          "data": {
            "text/plain": [
              "0.8216288983621269"
            ]
          },
          "metadata": {},
          "execution_count": 82
        }
      ]
    },
    {
      "cell_type": "code",
      "source": [
        "from sklearn import metrics"
      ],
      "metadata": {
        "id": "6jjKbhDxxJBE"
      },
      "execution_count": null,
      "outputs": []
    },
    {
      "cell_type": "code",
      "source": [
        "cm=metrics.confusion_matrix(y_test,predictions,labels=[1,0])\n",
        "mydata_cm=pd.DataFrame(cm,index=[i for i in ['1','0']],columns=[i for i in ['predict 1','predict 0']])\n",
        "plt.figure(figsize=(7,5))\n",
        "sns.heatmap(mydata_cm,annot=True,fmt='g')"
      ],
      "metadata": {
        "colab": {
          "base_uri": "https://localhost:8080/",
          "height": 462
        },
        "id": "3fktzbW4xhtE",
        "outputId": "6db6dcae-fd40-4f2a-8259-a2571c924c71"
      },
      "execution_count": null,
      "outputs": [
        {
          "output_type": "execute_result",
          "data": {
            "text/plain": [
              "<Axes: >"
            ]
          },
          "metadata": {},
          "execution_count": 84
        },
        {
          "output_type": "display_data",
          "data": {
            "text/plain": [
              "<Figure size 700x500 with 2 Axes>"
            ],
            "image/png": "[encoded data removed]"
          },
          "metadata": {}
        }
      ]
    },
    {
      "cell_type": "code",
      "source": [
        "print(metrics.classification_report(y_test,predictions))"
      ],
      "metadata": {
        "colab": {
          "base_uri": "https://localhost:8080/"
        },
        "id": "nfEtHcE-1vaM",
        "outputId": "41dcb5e3-ac33-4311-8cfe-06536da05298"
      },
      "execution_count": null,
      "outputs": [
        {
          "output_type": "stream",
          "name": "stdout",
          "text": [
            "              precision    recall  f1-score   support\n",
            "\n",
            "           0       0.84      0.92      0.88      3127\n",
            "           1       0.77      0.58      0.66      1330\n",
            "\n",
            "    accuracy                           0.82      4457\n",
            "   macro avg       0.80      0.75      0.77      4457\n",
            "weighted avg       0.82      0.82      0.81      4457\n",
            "\n"
          ]
        }
      ]
    },
    {
      "cell_type": "code",
      "source": [
        "from sklearn.tree import DecisionTreeClassifier"
      ],
      "metadata": {
        "id": "T8Syn5_N3Vh0"
      },
      "execution_count": null,
      "outputs": []
    },
    {
      "cell_type": "code",
      "source": [
        "model2=DecisionTreeClassifier()\n",
        "model2.fit(x_train,y_train)\n",
        "print(model2.score(x_train,y_train))\n",
        "print(model2.score(x_test,y_test))\n"
      ],
      "metadata": {
        "colab": {
          "base_uri": "https://localhost:8080/"
        },
        "id": "CBYc-PbSJ7-M",
        "outputId": "44469dad-5b31-44d7-d830-50ec9e45ed01"
      },
      "execution_count": null,
      "outputs": [
        {
          "output_type": "stream",
          "name": "stdout",
          "text": [
            "0.9996684716543265\n",
            "0.730087502804577\n"
          ]
        }
      ]
    },
    {
      "cell_type": "code",
      "source": [
        "model3=DecisionTreeClassifier(max_depth=7)"
      ],
      "metadata": {
        "id": "QSwd8RaTKBgN"
      },
      "execution_count": null,
      "outputs": []
    },
    {
      "cell_type": "code",
      "source": [
        "model3.fit(x_train,y_train)"
      ],
      "metadata": {
        "colab": {
          "base_uri": "https://localhost:8080/",
          "height": 74
        },
        "id": "t7tB0mkqO3K9",
        "outputId": "945b7de4-6f0b-4dd3-9092-04dd6317fc18"
      },
      "execution_count": null,
      "outputs": [
        {
          "output_type": "execute_result",
          "data": {
            "text/plain": [
              "DecisionTreeClassifier(max_depth=7)"
            ],
            "text/html": [
              "<style>#sk-container-id-5 {color: black;background-color: white;}#sk-container-id-5 pre{padding: 0;}#sk-container-id-5 div.sk-toggleable {background-color: white;}#sk-container-id-5 label.sk-toggleable__label {cursor: pointer;display: block;width: 100%;margin-bottom: 0;padding: 0.3em;box-sizing: border-box;text-align: center;}#sk-container-id-5 label.sk-toggleable__label-arrow:before {content: \"▸\";float: left;margin-right: 0.25em;color: #696969;}#sk-container-id-5 label.sk-toggleable__label-arrow:hover:before {color: black;}#sk-container-id-5 div.sk-estimator:hover label.sk-toggleable__label-arrow:before {color: black;}#sk-container-id-5 div.sk-toggleable__content {max-height: 0;max-width: 0;overflow: hidden;text-align: left;background-color: #f0f8ff;}#sk-container-id-5 div.sk-toggleable__content pre {margin: 0.2em;color: black;border-radius: 0.25em;background-color: #f0f8ff;}#sk-container-id-5 input.sk-toggleable__control:checked~div.sk-toggleable__content {max-height: 200px;max-width: 100%;overflow: auto;}#sk-container-id-5 input.sk-toggleable__control:checked~label.sk-toggleable__label-arrow:before {content: \"▾\";}#sk-container-id-5 div.sk-estimator input.sk-toggleable__control:checked~label.sk-toggleable__label {background-color: #d4ebff;}#sk-container-id-5 div.sk-label input.sk-toggleable__control:checked~label.sk-toggleable__label {background-color: #d4ebff;}#sk-container-id-5 input.sk-hidden--visually {border: 0;clip: rect(1px 1px 1px 1px);clip: rect(1px, 1px, 1px, 1px);height: 1px;margin: -1px;overflow: hidden;padding: 0;position: absolute;width: 1px;}#sk-container-id-5 div.sk-estimator {font-family: monospace;background-color: #f0f8ff;border: 1px dotted black;border-radius: 0.25em;box-sizing: border-box;margin-bottom: 0.5em;}#sk-container-id-5 div.sk-estimator:hover {background-color: #d4ebff;}#sk-container-id-5 div.sk-parallel-item::after {content: \"\";width: 100%;border-bottom: 1px solid gray;flex-grow: 1;}#sk-container-id-5 div.sk-label:hover label.sk-toggleable__label {background-color: #d4ebff;}#sk-container-id-5 div.sk-serial::before {content: \"\";position: absolute;border-left: 1px solid gray;box-sizing: border-box;top: 0;bottom: 0;left: 50%;z-index: 0;}#sk-container-id-5 div.sk-serial {display: flex;flex-direction: column;align-items: center;background-color: white;padding-right: 0.2em;padding-left: 0.2em;position: relative;}#sk-container-id-5 div.sk-item {position: relative;z-index: 1;}#sk-container-id-5 div.sk-parallel {display: flex;align-items: stretch;justify-content: center;background-color: white;position: relative;}#sk-container-id-5 div.sk-item::before, #sk-container-id-5 div.sk-parallel-item::before {content: \"\";position: absolute;border-left: 1px solid gray;box-sizing: border-box;top: 0;bottom: 0;left: 50%;z-index: -1;}#sk-container-id-5 div.sk-parallel-item {display: flex;flex-direction: column;z-index: 1;position: relative;background-color: white;}#sk-container-id-5 div.sk-parallel-item:first-child::after {align-self: flex-end;width: 50%;}#sk-container-id-5 div.sk-parallel-item:last-child::after {align-self: flex-start;width: 50%;}#sk-container-id-5 div.sk-parallel-item:only-child::after {width: 0;}#sk-container-id-5 div.sk-dashed-wrapped {border: 1px dashed gray;margin: 0 0.4em 0.5em 0.4em;box-sizing: border-box;padding-bottom: 0.4em;background-color: white;}#sk-container-id-5 div.sk-label label {font-family: monospace;font-weight: bold;display: inline-block;line-height: 1.2em;}#sk-container-id-5 div.sk-label-container {text-align: center;}#sk-container-id-5 div.sk-container {/* jupyter's `normalize.less` sets `[hidden] { display: none; }` but bootstrap.min.css set `[hidden] { display: none !important; }` so we also need the `!important` here to be able to override the default hidden behavior on the sphinx rendered scikit-learn.org. See: https://github.com/scikit-learn/scikit-learn/issues/21755 */display: inline-block !important;position: relative;}#sk-container-id-5 div.sk-text-repr-fallback {display: none;}</style><div id=\"sk-container-id-5\" class=\"sk-top-container\"><div class=\"sk-text-repr-fallback\"><pre>DecisionTreeClassifier(max_depth=7)</pre><b>In a Jupyter environment, please rerun this cell to show the HTML representation or trust the notebook. <br />On GitHub, the HTML representation is unable to render, please try loading this page with nbviewer.org.</b></div><div class=\"sk-container\" hidden><div class=\"sk-item\"><div class=\"sk-estimator sk-toggleable\"><input class=\"sk-toggleable__control sk-hidden--visually\" id=\"sk-estimator-id-7\" type=\"checkbox\" checked><label for=\"sk-estimator-id-7\" class=\"sk-toggleable__label sk-toggleable__label-arrow\">DecisionTreeClassifier</label><div class=\"sk-toggleable__content\"><pre>DecisionTreeClassifier(max_depth=7)</pre></div></div></div></div></div>"
            ]
          },
          "metadata": {},
          "execution_count": 89
        }
      ]
    },
    {
      "cell_type": "code",
      "source": [
        "print(model3.score(x_train,y_train))\n",
        "print(model3.score(x_test,y_test))"
      ],
      "metadata": {
        "colab": {
          "base_uri": "https://localhost:8080/"
        },
        "id": "_W-O6KMqO-ta",
        "outputId": "c46823f3-4456-4ef2-c83c-4799498fe07a"
      },
      "execution_count": null,
      "outputs": [
        {
          "output_type": "stream",
          "name": "stdout",
          "text": [
            "0.8295944303237927\n",
            "0.8126542517388378\n"
          ]
        }
      ]
    },
    {
      "cell_type": "code",
      "source": [
        "from sklearn.ensemble import BaggingClassifier"
      ],
      "metadata": {
        "id": "L8LNaYHZPH6s"
      },
      "execution_count": null,
      "outputs": []
    },
    {
      "cell_type": "code",
      "source": [
        "model4=BaggingClassifier(n_estimators=50,base_estimator=model3)"
      ],
      "metadata": {
        "id": "Bc4dhtwDQ3Ya"
      },
      "execution_count": null,
      "outputs": []
    },
    {
      "cell_type": "code",
      "source": [
        "model4.fit(x_train,y_train)"
      ],
      "metadata": {
        "colab": {
          "base_uri": "https://localhost:8080/",
          "height": 115
        },
        "id": "G3S-KXoZRvoi",
        "outputId": "961543b3-3cfd-4e4f-894b-610e9711f24b"
      },
      "execution_count": null,
      "outputs": [
        {
          "output_type": "execute_result",
          "data": {
            "text/plain": [
              "BaggingClassifier(base_estimator=DecisionTreeClassifier(max_depth=7),\n",
              "                  n_estimators=50)"
            ],
            "text/html": [
              "<style>#sk-container-id-6 {color: black;background-color: white;}#sk-container-id-6 pre{padding: 0;}#sk-container-id-6 div.sk-toggleable {background-color: white;}#sk-container-id-6 label.sk-toggleable__label {cursor: pointer;display: block;width: 100%;margin-bottom: 0;padding: 0.3em;box-sizing: border-box;text-align: center;}#sk-container-id-6 label.sk-toggleable__label-arrow:before {content: \"▸\";float: left;margin-right: 0.25em;color: #696969;}#sk-container-id-6 label.sk-toggleable__label-arrow:hover:before {color: black;}#sk-container-id-6 div.sk-estimator:hover label.sk-toggleable__label-arrow:before {color: black;}#sk-container-id-6 div.sk-toggleable__content {max-height: 0;max-width: 0;overflow: hidden;text-align: left;background-color: #f0f8ff;}#sk-container-id-6 div.sk-toggleable__content pre {margin: 0.2em;color: black;border-radius: 0.25em;background-color: #f0f8ff;}#sk-container-id-6 input.sk-toggleable__control:checked~div.sk-toggleable__content {max-height: 200px;max-width: 100%;overflow: auto;}#sk-container-id-6 input.sk-toggleable__control:checked~label.sk-toggleable__label-arrow:before {content: \"▾\";}#sk-container-id-6 div.sk-estimator input.sk-toggleable__control:checked~label.sk-toggleable__label {background-color: #d4ebff;}#sk-container-id-6 div.sk-label input.sk-toggleable__control:checked~label.sk-toggleable__label {background-color: #d4ebff;}#sk-container-id-6 input.sk-hidden--visually {border: 0;clip: rect(1px 1px 1px 1px);clip: rect(1px, 1px, 1px, 1px);height: 1px;margin: -1px;overflow: hidden;padding: 0;position: absolute;width: 1px;}#sk-container-id-6 div.sk-estimator {font-family: monospace;background-color: #f0f8ff;border: 1px dotted black;border-radius: 0.25em;box-sizing: border-box;margin-bottom: 0.5em;}#sk-container-id-6 div.sk-estimator:hover {background-color: #d4ebff;}#sk-container-id-6 div.sk-parallel-item::after {content: \"\";width: 100%;border-bottom: 1px solid gray;flex-grow: 1;}#sk-container-id-6 div.sk-label:hover label.sk-toggleable__label {background-color: #d4ebff;}#sk-container-id-6 div.sk-serial::before {content: \"\";position: absolute;border-left: 1px solid gray;box-sizing: border-box;top: 0;bottom: 0;left: 50%;z-index: 0;}#sk-container-id-6 div.sk-serial {display: flex;flex-direction: column;align-items: center;background-color: white;padding-right: 0.2em;padding-left: 0.2em;position: relative;}#sk-container-id-6 div.sk-item {position: relative;z-index: 1;}#sk-container-id-6 div.sk-parallel {display: flex;align-items: stretch;justify-content: center;background-color: white;position: relative;}#sk-container-id-6 div.sk-item::before, #sk-container-id-6 div.sk-parallel-item::before {content: \"\";position: absolute;border-left: 1px solid gray;box-sizing: border-box;top: 0;bottom: 0;left: 50%;z-index: -1;}#sk-container-id-6 div.sk-parallel-item {display: flex;flex-direction: column;z-index: 1;position: relative;background-color: white;}#sk-container-id-6 div.sk-parallel-item:first-child::after {align-self: flex-end;width: 50%;}#sk-container-id-6 div.sk-parallel-item:last-child::after {align-self: flex-start;width: 50%;}#sk-container-id-6 div.sk-parallel-item:only-child::after {width: 0;}#sk-container-id-6 div.sk-dashed-wrapped {border: 1px dashed gray;margin: 0 0.4em 0.5em 0.4em;box-sizing: border-box;padding-bottom: 0.4em;background-color: white;}#sk-container-id-6 div.sk-label label {font-family: monospace;font-weight: bold;display: inline-block;line-height: 1.2em;}#sk-container-id-6 div.sk-label-container {text-align: center;}#sk-container-id-6 div.sk-container {/* jupyter's `normalize.less` sets `[hidden] { display: none; }` but bootstrap.min.css set `[hidden] { display: none !important; }` so we also need the `!important` here to be able to override the default hidden behavior on the sphinx rendered scikit-learn.org. See: https://github.com/scikit-learn/scikit-learn/issues/21755 */display: inline-block !important;position: relative;}#sk-container-id-6 div.sk-text-repr-fallback {display: none;}</style><div id=\"sk-container-id-6\" class=\"sk-top-container\"><div class=\"sk-text-repr-fallback\"><pre>BaggingClassifier(base_estimator=DecisionTreeClassifier(max_depth=7),\n",
              "                  n_estimators=50)</pre><b>In a Jupyter environment, please rerun this cell to show the HTML representation or trust the notebook. <br />On GitHub, the HTML representation is unable to render, please try loading this page with nbviewer.org.</b></div><div class=\"sk-container\" hidden><div class=\"sk-item sk-dashed-wrapped\"><div class=\"sk-label-container\"><div class=\"sk-label sk-toggleable\"><input class=\"sk-toggleable__control sk-hidden--visually\" id=\"sk-estimator-id-8\" type=\"checkbox\" ><label for=\"sk-estimator-id-8\" class=\"sk-toggleable__label sk-toggleable__label-arrow\">BaggingClassifier</label><div class=\"sk-toggleable__content\"><pre>BaggingClassifier(base_estimator=DecisionTreeClassifier(max_depth=7),\n",
              "                  n_estimators=50)</pre></div></div></div><div class=\"sk-parallel\"><div class=\"sk-parallel-item\"><div class=\"sk-item\"><div class=\"sk-label-container\"><div class=\"sk-label sk-toggleable\"><input class=\"sk-toggleable__control sk-hidden--visually\" id=\"sk-estimator-id-9\" type=\"checkbox\" ><label for=\"sk-estimator-id-9\" class=\"sk-toggleable__label sk-toggleable__label-arrow\">base_estimator: DecisionTreeClassifier</label><div class=\"sk-toggleable__content\"><pre>DecisionTreeClassifier(max_depth=7)</pre></div></div></div><div class=\"sk-serial\"><div class=\"sk-item\"><div class=\"sk-estimator sk-toggleable\"><input class=\"sk-toggleable__control sk-hidden--visually\" id=\"sk-estimator-id-10\" type=\"checkbox\" ><label for=\"sk-estimator-id-10\" class=\"sk-toggleable__label sk-toggleable__label-arrow\">DecisionTreeClassifier</label><div class=\"sk-toggleable__content\"><pre>DecisionTreeClassifier(max_depth=7)</pre></div></div></div></div></div></div></div></div></div></div>"
            ]
          },
          "metadata": {},
          "execution_count": 93
        }
      ]
    },
    {
      "cell_type": "code",
      "source": [
        "print(model4.score(x_train,y_train))\n",
        "print(model4.score(x_test,y_test))"
      ],
      "metadata": {
        "colab": {
          "base_uri": "https://localhost:8080/"
        },
        "id": "feh0YCpOR4nA",
        "outputId": "bb80d958-c621-4ca0-d416-d23fb26456e5"
      },
      "execution_count": null,
      "outputs": [
        {
          "output_type": "stream",
          "name": "stdout",
          "text": [
            "0.8407558846281357\n",
            "0.8200583352030514\n"
          ]
        }
      ]
    },
    {
      "cell_type": "code",
      "source": [],
      "metadata": {
        "id": "jDamu7ceR8eu"
      },
      "execution_count": null,
      "outputs": []
    }
  ]
}